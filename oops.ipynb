{
 "cells": [
  {
   "cell_type": "code",
   "execution_count": 3,
   "metadata": {},
   "outputs": [
    {
     "name": "stdout",
     "output_type": "stream",
     "text": [
      "Blu is a bird\n",
      "woo is also bird\n",
      "Blu is 10 years old\n",
      "Woo is 15 years old\n"
     ]
    }
   ],
   "source": [
    "'''\n",
    "INSTANCE ATTRIBUTES\n",
    "'''\n",
    "\n",
    "class Parrot:\n",
    "    species = 'bird'   #class attribute\n",
    "    def __init__(self,name,age):\n",
    "        self.name = name \n",
    "        self.age = age\n",
    "# instantiate the parrot class\n",
    "blu = Parrot('Blu',10)\n",
    "woo = Parrot('Woo',15)\n",
    "#access the class attributes\n",
    "print('Blu is a {}'.format(blu.__class__.species))\n",
    "print('woo is also {}'.format(woo.__class__.species))\n",
    "#access the instance attributes\n",
    "print('{} is {} years old'.format(blu.name, blu.age))\n",
    "print('{} is {} years old'.format(woo.name, woo.age))"
   ]
  },
  {
   "cell_type": "code",
   "execution_count": 10,
   "metadata": {},
   "outputs": [
    {
     "name": "stdout",
     "output_type": "stream",
     "text": [
      "Blu is now singing 'Happy'\n",
      "Blu is now dancing\n"
     ]
    }
   ],
   "source": [
    "'''\n",
    "INSTANCE METHOD\n",
    "'''\n",
    "\n",
    "class Parrot:\n",
    "    # instance attributes\n",
    "    def __init__(self,name,age):\n",
    "        self.name = name \n",
    "        self.age = age\n",
    "        # instance method\n",
    "    def sing(self,song):\n",
    "        return '{} is now singing {}'.format(self.name,song)\n",
    "    def dance(self):\n",
    "        return '{} is now dancing'.format(self.name)\n",
    "#instantiate the object\n",
    "blu = Parrot('Blu',10)\n",
    "# call our instance methods\n",
    "print(blu.sing(\"'Happy'\"))\n",
    "print(blu.dance())"
   ]
  },
  {
   "cell_type": "code",
   "execution_count": 13,
   "metadata": {},
   "outputs": [],
   "source": [
    "'''\n",
    "INHERITACE\n",
    "'''\n",
    "\n",
    "class Bird: #parent class\n",
    "    def __init__(self):\n",
    "        print('Bird is ready')\n",
    "    def whoisthis(self):\n",
    "        print('Bird')\n",
    "    def swim(self):\n",
    "        print('Swim faster')"
   ]
  },
  {
   "cell_type": "code",
   "execution_count": 17,
   "metadata": {},
   "outputs": [
    {
     "name": "stdout",
     "output_type": "stream",
     "text": [
      "Bird is ready\n",
      "Penguin is ready\n",
      "Penguin\n",
      "Swim faster\n",
      "Runfaster\n"
     ]
    }
   ],
   "source": [
    "class Penguin(Bird): #child class\n",
    "    def __init__(self):\n",
    "        super().__init__()\n",
    "        print('Penguin is ready')\n",
    "    def whoisthis(self):\n",
    "        print('Penguin')\n",
    "    def run(self):\n",
    "        print('Runfaster')\n",
    "peggy = Penguin()\n",
    "peggy.whoisthis()\n",
    "peggy.swim()\n",
    "peggy.run()"
   ]
  },
  {
   "cell_type": "code",
   "execution_count": 19,
   "metadata": {},
   "outputs": [
    {
     "name": "stdout",
     "output_type": "stream",
     "text": [
      "Selling Price: 900\n",
      "Selling Price: 1000\n",
      "Selling Price: 1000\n"
     ]
    }
   ],
   "source": [
    "'''\n",
    "ENCAPSULATION\n",
    "'''\n",
    "class Computer:\n",
    "    def __init__(self):\n",
    "        self.maxprice = 900\n",
    "    def sell(self):\n",
    "        print('Selling Price: {}'.format(self.maxprice))\n",
    "    def setMaxPrice(self,price):\n",
    "        self.maxprice = price\n",
    "c = Computer()\n",
    "c.sell()\n",
    "#change the price\n",
    "c.maxprice = 1000\n",
    "c.sell()\n",
    "#using setter function\n",
    "c.setMaxPrice(1000)\n",
    "c.sell()"
   ]
  },
  {
   "cell_type": "code",
   "execution_count": 20,
   "metadata": {},
   "outputs": [
    {
     "name": "stdout",
     "output_type": "stream",
     "text": [
      "Parrot can fly\n",
      "Penguin cant fly\n"
     ]
    }
   ],
   "source": [
    "'''\n",
    "POLYMORPHISM\n",
    "'''\n",
    "class Parrot:\n",
    "    def fly(self):\n",
    "        print('Parrot can fly')\n",
    "    def swim(self):\n",
    "        print('Parrot can swim')\n",
    "class Penguin:\n",
    "    def fly(self):\n",
    "        print('Penguin cant fly')\n",
    "    def swim(self):\n",
    "        print('Penguin can swim')\n",
    "def flying_test(bird): #common interface\n",
    "    bird.fly()\n",
    "blu = Parrot() # instance objects\n",
    "peggy = Penguin() #instance objects\n",
    "flying_test(blu) #passing the object\n",
    "flying_test(peggy)"
   ]
  },
  {
   "cell_type": "code",
   "execution_count": null,
   "metadata": {},
   "outputs": [],
   "source": []
  }
 ],
 "metadata": {
  "kernelspec": {
   "display_name": "Python 3",
   "language": "python",
   "name": "python3"
  },
  "language_info": {
   "codemirror_mode": {
    "name": "ipython",
    "version": 3
   },
   "file_extension": ".py",
   "mimetype": "text/x-python",
   "name": "python",
   "nbconvert_exporter": "python",
   "pygments_lexer": "ipython3",
   "version": "3.7.6"
  }
 },
 "nbformat": 4,
 "nbformat_minor": 4
}
